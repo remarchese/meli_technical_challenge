{
 "cells": [
  {
   "attachments": {
    "image.png": {
     "image/png": "[encoded data removed]"
    }
   },
   "cell_type": "markdown",
   "id": "2bac95b3",
   "metadata": {},
   "source": [
    "<div style=\"background-color: yellow; padding: 18px;\">\n",
    "    <h1> Data Science Challenge |  Data & Analytics Team\n",
    "</div>\n",
    "\n",
    "<div style=\"background-color: lightblue; padding: 10px;\">\n",
    "    <h2> Case 1 - Explorar las ofertas relámpago, ¿qué insights puedes generar?\n",
    "</div>\n",
    "\n",
    "**Descripción**\n",
    " \n",
    "En conjunto con el desafío te compartimos un archivo llamado `ofertas_relampago.csv` el cual posee información de los resultados de ofertas del tipo relampago para un periodo de tiempo y un país determinado.\n",
    "\n",
    "[Estas ofertas](https://www.mercadolibre.com.mx/ofertas?promotion_type=lightning&container_id=MLM779363-1#origin=scut&filter_applied=promotion_type&filter_position=2&is_recommended_domain=false) en mercadolibre se pueden ver de la siguiente manera:\n",
    "    \n",
    "![image.png](attachment:image.png)\n",
    "\n",
    "   \n",
    "Es decir, son ofertas que tienen una duración definida de algunas horas y un porcentaje de unidades (stock) comprometidas.\n",
    "    \n",
    "  \n",
    "El objetivo de este desafío es hacer un EDA sobre estos datos buscando insights sobre este tipo de ofertas.\n",
    "    \n",
    "Las columnas del dataset son autoexplicativas pero puedes preguntarnos cualquier duda.\n",
    "___"
   ]
  },
  {
   "cell_type": "markdown",
   "id": "3fe3ba2d",
   "metadata": {},
   "source": [
    "## Estratégia para a Análise Exploratória de Dados:\n",
    "\n",
    "- Compreender o problema\n",
    "- Entender os dados (carregar, verificar estrutura dos dados, tipos de variáveis, valores ausentes)\n",
    "- Exploração incial (estatística descritiva básica univariada, ver distribuição de variáveis, plotar gráficos, tratar dados ausentes)\n",
    "- Análise bivariada (relação entre variáveis, gráficos de dispersão e barras)\n",
    "- Analisar Outliers\n",
    "- Agrupar, manipular dados, gerar gráficos explicativos e tirar insights (refinar análise)\n",
    "- Resumir e concluir"
   ]
  },
  {
   "cell_type": "markdown",
   "id": "0deaabcc",
   "metadata": {},
   "source": [
    " ### Contexto do problema\n",
    " \n",
    " Com informações sobre os resultados de ofertas relâmpago do Meli em um período de um site, o objetivo deste desafio é realizar uma Análise Exploratória de Dados (EDA) sobre esses dados, buscando insights sobre esse tipo de oferta.\n",
    " \n",
    " Os itens (produtos) entram em promoção por um período e a ideia inicial é saber como foi a oferta, quais produtos venderam mais, quais geraram valores maiores, a que domínio e vertical pertencem."
   ]
  },
  {
   "cell_type": "markdown",
   "id": "c43b878d",
   "metadata": {},
   "source": [
    "### Entender os dados"
   ]
  },
  {
   "cell_type": "code",
   "execution_count": 3,
   "id": "02ae51e8",
   "metadata": {},
   "outputs": [],
   "source": [
    "# Importar bibliotecas e carregar os dados\n",
    "\n",
    "import pandas as pd\n",
    "import numpy as np\n",
    "import datetime as dt\n",
    "\n",
    "import matplotlib.pyplot as plt\n",
    "import seaborn as sns"
   ]
  },
  {
   "cell_type": "code",
   "execution_count": 10,
   "id": "1814114c",
   "metadata": {},
   "outputs": [],
   "source": [
    "# Carregar o arquivo (base de dados)\n",
    "df = pd.read_csv('ofertas_relampago.csv')"
   ]
  },
  {
   "cell_type": "code",
   "execution_count": 11,
   "id": "6e0d6a6a",
   "metadata": {},
   "outputs": [
    {
     "data": {
      "text/html": [
       "<div>\n",
       "<style scoped>\n",
       "    .dataframe tbody tr th:only-of-type {\n",
       "        vertical-align: middle;\n",
       "    }\n",
       "\n",
       "    .dataframe tbody tr th {\n",
       "        vertical-align: top;\n",
       "    }\n",
       "\n",
       "    .dataframe thead th {\n",
       "        text-align: right;\n",
       "    }\n",
       "</style>\n",
       "<table border=\"1\" class=\"dataframe\">\n",
       "  <thead>\n",
       "    <tr style=\"text-align: right;\">\n",
       "      <th></th>\n",
       "      <th>OFFER_START_DATE</th>\n",
       "      <th>OFFER_START_DTTM</th>\n",
       "      <th>OFFER_FINISH_DTTM</th>\n",
       "      <th>OFFER_TYPE</th>\n",
       "      <th>INVOLVED_STOCK</th>\n",
       "      <th>REMAINING_STOCK_AFTER_END</th>\n",
       "      <th>SOLD_AMOUNT</th>\n",
       "      <th>SOLD_QUANTITY</th>\n",
       "      <th>ORIGIN</th>\n",
       "      <th>SHIPPING_PAYMENT_TYPE</th>\n",
       "      <th>DOM_DOMAIN_AGG1</th>\n",
       "      <th>VERTICAL</th>\n",
       "      <th>DOMAIN_ID</th>\n",
       "    </tr>\n",
       "  </thead>\n",
       "  <tbody>\n",
       "    <tr>\n",
       "      <th>0</th>\n",
       "      <td>2021-06-22</td>\n",
       "      <td>2021-06-22 16:00:00+00:00</td>\n",
       "      <td>2021-06-22 23:02:43+00:00</td>\n",
       "      <td>lightning_deal</td>\n",
       "      <td>4</td>\n",
       "      <td>-2</td>\n",
       "      <td>4.72</td>\n",
       "      <td>6.0</td>\n",
       "      <td>A</td>\n",
       "      <td>none</td>\n",
       "      <td>PETS FOOD</td>\n",
       "      <td>CPG</td>\n",
       "      <td>MLM-BIRD_FOODS</td>\n",
       "    </tr>\n",
       "    <tr>\n",
       "      <th>1</th>\n",
       "      <td>2021-06-22</td>\n",
       "      <td>2021-06-22 13:00:00+00:00</td>\n",
       "      <td>2021-06-22 19:00:02+00:00</td>\n",
       "      <td>lightning_deal</td>\n",
       "      <td>5</td>\n",
       "      <td>5</td>\n",
       "      <td>NaN</td>\n",
       "      <td>NaN</td>\n",
       "      <td>NaN</td>\n",
       "      <td>free_shipping</td>\n",
       "      <td>PET PRODUCTS</td>\n",
       "      <td>OTHERS</td>\n",
       "      <td>MLM-ANIMAL_AND_PET_PRODUCTS</td>\n",
       "    </tr>\n",
       "    <tr>\n",
       "      <th>2</th>\n",
       "      <td>2021-06-22</td>\n",
       "      <td>2021-06-22 07:00:00+00:00</td>\n",
       "      <td>2021-06-22 13:00:01+00:00</td>\n",
       "      <td>lightning_deal</td>\n",
       "      <td>15</td>\n",
       "      <td>12</td>\n",
       "      <td>10.73</td>\n",
       "      <td>3.0</td>\n",
       "      <td>NaN</td>\n",
       "      <td>none</td>\n",
       "      <td>COMPUTERS</td>\n",
       "      <td>CE</td>\n",
       "      <td>MLM-SPEAKERS</td>\n",
       "    </tr>\n",
       "    <tr>\n",
       "      <th>3</th>\n",
       "      <td>2021-06-22</td>\n",
       "      <td>2021-06-22 19:00:00+00:00</td>\n",
       "      <td>2021-06-23 01:36:12+00:00</td>\n",
       "      <td>lightning_deal</td>\n",
       "      <td>15</td>\n",
       "      <td>13</td>\n",
       "      <td>7.03</td>\n",
       "      <td>2.0</td>\n",
       "      <td>NaN</td>\n",
       "      <td>none</td>\n",
       "      <td>COMPUTERS</td>\n",
       "      <td>CE</td>\n",
       "      <td>MLM-HEADPHONES</td>\n",
       "    </tr>\n",
       "    <tr>\n",
       "      <th>4</th>\n",
       "      <td>2021-06-22</td>\n",
       "      <td>2021-06-22 13:00:00+00:00</td>\n",
       "      <td>2021-06-22 15:48:12+00:00</td>\n",
       "      <td>lightning_deal</td>\n",
       "      <td>15</td>\n",
       "      <td>0</td>\n",
       "      <td>39.65</td>\n",
       "      <td>15.0</td>\n",
       "      <td>NaN</td>\n",
       "      <td>none</td>\n",
       "      <td>COMPUTERS</td>\n",
       "      <td>CE</td>\n",
       "      <td>MLM-HEADPHONES</td>\n",
       "    </tr>\n",
       "  </tbody>\n",
       "</table>\n",
       "</div>"
      ],
      "text/plain": [
       "  OFFER_START_DATE           OFFER_START_DTTM          OFFER_FINISH_DTTM  \\\n",
       "0       2021-06-22  2021-06-22 16:00:00+00:00  2021-06-22 23:02:43+00:00   \n",
       "1       2021-06-22  2021-06-22 13:00:00+00:00  2021-06-22 19:00:02+00:00   \n",
       "2       2021-06-22  2021-06-22 07:00:00+00:00  2021-06-22 13:00:01+00:00   \n",
       "3       2021-06-22  2021-06-22 19:00:00+00:00  2021-06-23 01:36:12+00:00   \n",
       "4       2021-06-22  2021-06-22 13:00:00+00:00  2021-06-22 15:48:12+00:00   \n",
       "\n",
       "       OFFER_TYPE  INVOLVED_STOCK  REMAINING_STOCK_AFTER_END  SOLD_AMOUNT  \\\n",
       "0  lightning_deal               4                         -2         4.72   \n",
       "1  lightning_deal               5                          5          NaN   \n",
       "2  lightning_deal              15                         12        10.73   \n",
       "3  lightning_deal              15                         13         7.03   \n",
       "4  lightning_deal              15                          0        39.65   \n",
       "\n",
       "   SOLD_QUANTITY ORIGIN SHIPPING_PAYMENT_TYPE DOM_DOMAIN_AGG1 VERTICAL  \\\n",
       "0            6.0      A                  none       PETS FOOD      CPG   \n",
       "1            NaN    NaN         free_shipping    PET PRODUCTS   OTHERS   \n",
       "2            3.0    NaN                  none       COMPUTERS       CE   \n",
       "3            2.0    NaN                  none       COMPUTERS       CE   \n",
       "4           15.0    NaN                  none       COMPUTERS       CE   \n",
       "\n",
       "                     DOMAIN_ID  \n",
       "0               MLM-BIRD_FOODS  \n",
       "1  MLM-ANIMAL_AND_PET_PRODUCTS  \n",
       "2                 MLM-SPEAKERS  \n",
       "3               MLM-HEADPHONES  \n",
       "4               MLM-HEADPHONES  "
      ]
     },
     "execution_count": 11,
     "metadata": {},
     "output_type": "execute_result"
    }
   ],
   "source": [
    "df.head()"
   ]
  },
  {
   "cell_type": "markdown",
   "id": "23afb4be",
   "metadata": {},
   "source": [
    "Entendendo um pouco sobre as variáveis disponíveis\n",
    "\n",
    "- OFFER_START_DATE: Data de início da oferta.\n",
    "- OFFER_START_DTTM: Data e hora de início da oferta.\n",
    "- OFFER_FINISH_DTTM: Data e hora de finalização da oferta.\n",
    "- OFFER_TYPE: Tipo de oferta.\n",
    "- INVOLVED_STOCK: Estoque envolvido na oferta.\n",
    "- REMAINING_STOCK_AFTER_END: Estoque restante após o término da oferta.\n",
    "- SOLD_AMOUNT: Valor total vendido.\n",
    "- SOLD_QUANTITY: Quantidade total vendida.\n",
    "- ORIGIN: Origem da oferta.\n",
    "- SHIPPING_PAYMENT_TYPE: Tipo de pagamento de envio.\n",
    "- DOM_DOMAIN_AGG1: Primeiro nível de agregação a qual o item (produto) pertence.\n",
    "- VERTICAL: Vertical do produto.\n",
    "- DOMAIN_ID: Domínio que o item pertence"
   ]
  },
  {
   "cell_type": "code",
   "execution_count": 56,
   "id": "d813c3e6",
   "metadata": {},
   "outputs": [
    {
     "name": "stdout",
     "output_type": "stream",
     "text": [
      "<class 'pandas.core.frame.DataFrame'>\n",
      "RangeIndex: 48746 entries, 0 to 48745\n",
      "Data columns (total 15 columns):\n",
      " #   Column                     Non-Null Count  Dtype              \n",
      "---  ------                     --------------  -----              \n",
      " 0   OFFER_START_DATE           48746 non-null  datetime64[ns]     \n",
      " 1   OFFER_START_DTTM           48746 non-null  datetime64[ns, UTC]\n",
      " 2   OFFER_FINISH_DTTM          48746 non-null  datetime64[ns, UTC]\n",
      " 3   OFFER_TYPE                 48746 non-null  object             \n",
      " 4   INVOLVED_STOCK             48746 non-null  int64              \n",
      " 5   REMAINING_STOCK_AFTER_END  48746 non-null  int64              \n",
      " 6   SOLD_AMOUNT                24579 non-null  float64            \n",
      " 7   SOLD_QUANTITY              24579 non-null  float64            \n",
      " 8   ORIGIN                     11316 non-null  object             \n",
      " 9   SHIPPING_PAYMENT_TYPE      48746 non-null  object             \n",
      " 10  DOM_DOMAIN_AGG1            48746 non-null  object             \n",
      " 11  VERTICAL                   48746 non-null  object             \n",
      " 12  DOMAIN_ID                  48746 non-null  object             \n",
      " 13  OFFER_DURATION             48746 non-null  timedelta64[ns]    \n",
      " 14  OFFER_DURATION_HOURS       48746 non-null  float64            \n",
      "dtypes: datetime64[ns, UTC](2), datetime64[ns](1), float64(3), int64(2), object(6), timedelta64[ns](1)\n",
      "memory usage: 5.6+ MB\n"
     ]
    }
   ],
   "source": [
    "# Verificando os tipos de dados\n",
    "df.info()"
   ]
  },
  {
   "cell_type": "markdown",
   "id": "adba5f68",
   "metadata": {},
   "source": [
    "Existem dados numéricos, categóricos e tipo data (que será transformado em timestamp/datetime). \n",
    "\n",
    "Existem dados faltantes, que irá ser explorado:"
   ]
  },
  {
   "cell_type": "code",
   "execution_count": 19,
   "id": "5704fdaa",
   "metadata": {},
   "outputs": [
    {
     "data": {
      "text/plain": [
       "OFFER_START_DATE                 0\n",
       "OFFER_START_DTTM                 0\n",
       "OFFER_FINISH_DTTM                0\n",
       "OFFER_TYPE                       0\n",
       "INVOLVED_STOCK                   0\n",
       "REMAINING_STOCK_AFTER_END        0\n",
       "SOLD_AMOUNT                  24167\n",
       "SOLD_QUANTITY                24167\n",
       "ORIGIN                       37430\n",
       "SHIPPING_PAYMENT_TYPE            0\n",
       "DOM_DOMAIN_AGG1                  0\n",
       "VERTICAL                         0\n",
       "DOMAIN_ID                        0\n",
       "dtype: int64"
      ]
     },
     "execution_count": 19,
     "metadata": {},
     "output_type": "execute_result"
    }
   ],
   "source": [
    "df.isna().sum()"
   ]
  },
  {
   "cell_type": "code",
   "execution_count": 24,
   "id": "3f55fe37",
   "metadata": {},
   "outputs": [
    {
     "data": {
      "text/html": [
       "<div>\n",
       "<style scoped>\n",
       "    .dataframe tbody tr th:only-of-type {\n",
       "        vertical-align: middle;\n",
       "    }\n",
       "\n",
       "    .dataframe tbody tr th {\n",
       "        vertical-align: top;\n",
       "    }\n",
       "\n",
       "    .dataframe thead th {\n",
       "        text-align: right;\n",
       "    }\n",
       "</style>\n",
       "<table border=\"1\" class=\"dataframe\">\n",
       "  <thead>\n",
       "    <tr style=\"text-align: right;\">\n",
       "      <th></th>\n",
       "      <th>Total</th>\n",
       "      <th>Porcentagem</th>\n",
       "    </tr>\n",
       "  </thead>\n",
       "  <tbody>\n",
       "    <tr>\n",
       "      <th>ORIGIN</th>\n",
       "      <td>37430</td>\n",
       "      <td>0.767858</td>\n",
       "    </tr>\n",
       "    <tr>\n",
       "      <th>SOLD_AMOUNT</th>\n",
       "      <td>24167</td>\n",
       "      <td>0.495774</td>\n",
       "    </tr>\n",
       "    <tr>\n",
       "      <th>SOLD_QUANTITY</th>\n",
       "      <td>24167</td>\n",
       "      <td>0.495774</td>\n",
       "    </tr>\n",
       "    <tr>\n",
       "      <th>OFFER_START_DATE</th>\n",
       "      <td>0</td>\n",
       "      <td>0.000000</td>\n",
       "    </tr>\n",
       "    <tr>\n",
       "      <th>OFFER_START_DTTM</th>\n",
       "      <td>0</td>\n",
       "      <td>0.000000</td>\n",
       "    </tr>\n",
       "  </tbody>\n",
       "</table>\n",
       "</div>"
      ],
      "text/plain": [
       "                  Total  Porcentagem\n",
       "ORIGIN            37430     0.767858\n",
       "SOLD_AMOUNT       24167     0.495774\n",
       "SOLD_QUANTITY     24167     0.495774\n",
       "OFFER_START_DATE      0     0.000000\n",
       "OFFER_START_DTTM      0     0.000000"
      ]
     },
     "execution_count": 24,
     "metadata": {},
     "output_type": "execute_result"
    }
   ],
   "source": [
    "total = df.isnull().sum().sort_values(ascending=False)\n",
    "percent = (df.isnull().sum() /\n",
    "           df.isnull().count()).sort_values(ascending=False)\n",
    "missing_data = pd.concat([total, percent], axis=1, keys=['Total', 'Porcentagem'])\n",
    "missing_data.head()"
   ]
  },
  {
   "cell_type": "markdown",
   "id": "a37c8360",
   "metadata": {},
   "source": [
    "Com 76,8% dos dados faltantes, ORIGIN é uma feature que é candidata a ser eliminada.\n",
    "Total vendido também possui valores ausentes e será tratado posteriormente"
   ]
  },
  {
   "cell_type": "code",
   "execution_count": 25,
   "id": "11e00b54",
   "metadata": {},
   "outputs": [
    {
     "data": {
      "text/plain": [
       "(48746, 13)"
      ]
     },
     "execution_count": 25,
     "metadata": {},
     "output_type": "execute_result"
    }
   ],
   "source": [
    "df.shape"
   ]
  },
  {
   "cell_type": "markdown",
   "id": "01e44d34",
   "metadata": {},
   "source": [
    "### Exploração inicial"
   ]
  },
  {
   "cell_type": "code",
   "execution_count": 28,
   "id": "c446da28",
   "metadata": {},
   "outputs": [
    {
     "data": {
      "text/html": [
       "<div>\n",
       "<style scoped>\n",
       "    .dataframe tbody tr th:only-of-type {\n",
       "        vertical-align: middle;\n",
       "    }\n",
       "\n",
       "    .dataframe tbody tr th {\n",
       "        vertical-align: top;\n",
       "    }\n",
       "\n",
       "    .dataframe thead th {\n",
       "        text-align: right;\n",
       "    }\n",
       "</style>\n",
       "<table border=\"1\" class=\"dataframe\">\n",
       "  <thead>\n",
       "    <tr style=\"text-align: right;\">\n",
       "      <th></th>\n",
       "      <th>INVOLVED_STOCK</th>\n",
       "      <th>REMAINING_STOCK_AFTER_END</th>\n",
       "      <th>SOLD_AMOUNT</th>\n",
       "      <th>SOLD_QUANTITY</th>\n",
       "    </tr>\n",
       "  </thead>\n",
       "  <tbody>\n",
       "    <tr>\n",
       "      <th>count</th>\n",
       "      <td>48746.000000</td>\n",
       "      <td>48746.000000</td>\n",
       "      <td>24579.000000</td>\n",
       "      <td>24579.000000</td>\n",
       "    </tr>\n",
       "    <tr>\n",
       "      <th>mean</th>\n",
       "      <td>35.007508</td>\n",
       "      <td>30.565216</td>\n",
       "      <td>51.208898</td>\n",
       "      <td>10.851052</td>\n",
       "    </tr>\n",
       "    <tr>\n",
       "      <th>std</th>\n",
       "      <td>206.761058</td>\n",
       "      <td>195.813806</td>\n",
       "      <td>175.254414</td>\n",
       "      <td>45.475305</td>\n",
       "    </tr>\n",
       "    <tr>\n",
       "      <th>min</th>\n",
       "      <td>1.000000</td>\n",
       "      <td>-192.000000</td>\n",
       "      <td>0.280000</td>\n",
       "      <td>1.000000</td>\n",
       "    </tr>\n",
       "    <tr>\n",
       "      <th>25%</th>\n",
       "      <td>5.000000</td>\n",
       "      <td>4.000000</td>\n",
       "      <td>5.730000</td>\n",
       "      <td>1.000000</td>\n",
       "    </tr>\n",
       "    <tr>\n",
       "      <th>50%</th>\n",
       "      <td>10.000000</td>\n",
       "      <td>8.000000</td>\n",
       "      <td>12.420000</td>\n",
       "      <td>3.000000</td>\n",
       "    </tr>\n",
       "    <tr>\n",
       "      <th>75%</th>\n",
       "      <td>15.000000</td>\n",
       "      <td>15.000000</td>\n",
       "      <td>30.925000</td>\n",
       "      <td>6.000000</td>\n",
       "    </tr>\n",
       "    <tr>\n",
       "      <th>max</th>\n",
       "      <td>9000.000000</td>\n",
       "      <td>8635.000000</td>\n",
       "      <td>4836.570000</td>\n",
       "      <td>1646.000000</td>\n",
       "    </tr>\n",
       "  </tbody>\n",
       "</table>\n",
       "</div>"
      ],
      "text/plain": [
       "       INVOLVED_STOCK  REMAINING_STOCK_AFTER_END   SOLD_AMOUNT  SOLD_QUANTITY\n",
       "count    48746.000000               48746.000000  24579.000000   24579.000000\n",
       "mean        35.007508                  30.565216     51.208898      10.851052\n",
       "std        206.761058                 195.813806    175.254414      45.475305\n",
       "min          1.000000                -192.000000      0.280000       1.000000\n",
       "25%          5.000000                   4.000000      5.730000       1.000000\n",
       "50%         10.000000                   8.000000     12.420000       3.000000\n",
       "75%         15.000000                  15.000000     30.925000       6.000000\n",
       "max       9000.000000                8635.000000   4836.570000    1646.000000"
      ]
     },
     "execution_count": 28,
     "metadata": {},
     "output_type": "execute_result"
    }
   ],
   "source": [
    "# Algumas estatísticas univariadas básicas das colunas numéricas\n",
    "\n",
    "df.describe()"
   ]
  },
  {
   "cell_type": "markdown",
   "id": "061d0b43",
   "metadata": {},
   "source": [
    "INVOLVED_STOCK e REMAINING_STOCK_AFTER_END provavelmente possuem valores atípicos pois sua média e mediana estão distantes"
   ]
  },
  {
   "cell_type": "code",
   "execution_count": 29,
   "id": "4df8872b",
   "metadata": {},
   "outputs": [
    {
     "data": {
      "text/html": [
       "<div>\n",
       "<style scoped>\n",
       "    .dataframe tbody tr th:only-of-type {\n",
       "        vertical-align: middle;\n",
       "    }\n",
       "\n",
       "    .dataframe tbody tr th {\n",
       "        vertical-align: top;\n",
       "    }\n",
       "\n",
       "    .dataframe thead th {\n",
       "        text-align: right;\n",
       "    }\n",
       "</style>\n",
       "<table border=\"1\" class=\"dataframe\">\n",
       "  <thead>\n",
       "    <tr style=\"text-align: right;\">\n",
       "      <th></th>\n",
       "      <th>OFFER_START_DATE</th>\n",
       "      <th>OFFER_START_DTTM</th>\n",
       "      <th>OFFER_FINISH_DTTM</th>\n",
       "      <th>OFFER_TYPE</th>\n",
       "      <th>ORIGIN</th>\n",
       "      <th>SHIPPING_PAYMENT_TYPE</th>\n",
       "      <th>DOM_DOMAIN_AGG1</th>\n",
       "      <th>VERTICAL</th>\n",
       "      <th>DOMAIN_ID</th>\n",
       "    </tr>\n",
       "  </thead>\n",
       "  <tbody>\n",
       "    <tr>\n",
       "      <th>count</th>\n",
       "      <td>48746</td>\n",
       "      <td>48746</td>\n",
       "      <td>48746</td>\n",
       "      <td>48746</td>\n",
       "      <td>11316</td>\n",
       "      <td>48746</td>\n",
       "      <td>48746</td>\n",
       "      <td>48746</td>\n",
       "      <td>48746</td>\n",
       "    </tr>\n",
       "    <tr>\n",
       "      <th>unique</th>\n",
       "      <td>61</td>\n",
       "      <td>783</td>\n",
       "      <td>7578</td>\n",
       "      <td>1</td>\n",
       "      <td>1</td>\n",
       "      <td>2</td>\n",
       "      <td>36</td>\n",
       "      <td>9</td>\n",
       "      <td>1266</td>\n",
       "    </tr>\n",
       "    <tr>\n",
       "      <th>top</th>\n",
       "      <td>2021-07-30</td>\n",
       "      <td>2021-07-30 13:00:00+00:00</td>\n",
       "      <td>2021-07-06 13:00:01+00:00</td>\n",
       "      <td>lightning_deal</td>\n",
       "      <td>A</td>\n",
       "      <td>free_shipping</td>\n",
       "      <td>HOME&amp;DECOR</td>\n",
       "      <td>APP &amp; SPORTS</td>\n",
       "      <td>MLM-SURGICAL_AND_INDUSTRIAL_MASKS</td>\n",
       "    </tr>\n",
       "    <tr>\n",
       "      <th>freq</th>\n",
       "      <td>1300</td>\n",
       "      <td>414</td>\n",
       "      <td>77</td>\n",
       "      <td>48746</td>\n",
       "      <td>11316</td>\n",
       "      <td>26658</td>\n",
       "      <td>6742</td>\n",
       "      <td>13241</td>\n",
       "      <td>1759</td>\n",
       "    </tr>\n",
       "  </tbody>\n",
       "</table>\n",
       "</div>"
      ],
      "text/plain": [
       "       OFFER_START_DATE           OFFER_START_DTTM          OFFER_FINISH_DTTM  \\\n",
       "count             48746                      48746                      48746   \n",
       "unique               61                        783                       7578   \n",
       "top          2021-07-30  2021-07-30 13:00:00+00:00  2021-07-06 13:00:01+00:00   \n",
       "freq               1300                        414                         77   \n",
       "\n",
       "            OFFER_TYPE ORIGIN SHIPPING_PAYMENT_TYPE DOM_DOMAIN_AGG1  \\\n",
       "count            48746  11316                 48746           48746   \n",
       "unique               1      1                     2              36   \n",
       "top     lightning_deal      A         free_shipping      HOME&DECOR   \n",
       "freq             48746  11316                 26658            6742   \n",
       "\n",
       "            VERTICAL                          DOMAIN_ID  \n",
       "count          48746                              48746  \n",
       "unique             9                               1266  \n",
       "top     APP & SPORTS  MLM-SURGICAL_AND_INDUSTRIAL_MASKS  \n",
       "freq           13241                               1759  "
      ]
     },
     "execution_count": 29,
     "metadata": {},
     "output_type": "execute_result"
    }
   ],
   "source": [
    "# Análise rápida para dados categóricos\n",
    "\n",
    "df.describe(include='O')"
   ]
  },
  {
   "cell_type": "markdown",
   "id": "0a766f54",
   "metadata": {},
   "source": [
    "OFFER_TYPE possui apenas 1 valor (lightning_deal) e pode ser eliminada pois não agrega informação.\n",
    "O ORIGIN deve ser analisado pois, apesar de possuir apenas 1 valor único, tem valores faltantes e talvez possa ser uma categoria a mais."
   ]
  },
  {
   "cell_type": "code",
   "execution_count": 57,
   "id": "0180b226",
   "metadata": {},
   "outputs": [],
   "source": [
    "# Todas as ofertas foram do tipo lightning_deal\n",
    "\n",
    "df.drop(columns=['OFFER_TYPE'], inplace=True)"
   ]
  },
  {
   "cell_type": "markdown",
   "id": "67b39406",
   "metadata": {},
   "source": [
    "**Olhando as datas**"
   ]
  },
  {
   "cell_type": "code",
   "execution_count": 32,
   "id": "5f56d395",
   "metadata": {},
   "outputs": [
    {
     "name": "stdout",
     "output_type": "stream",
     "text": [
      "As ofertas aconteceram de 2021-06-01 a 2021-07-31\n"
     ]
    }
   ],
   "source": [
    "print(f'As ofertas aconteceram de {df.OFFER_START_DATE.min()} a {df.OFFER_START_DATE.max()}')"
   ]
  },
  {
   "cell_type": "code",
   "execution_count": 35,
   "id": "b6d1f3a8",
   "metadata": {},
   "outputs": [],
   "source": [
    "# Transformando as colunas de data em datetime\n",
    "\n",
    "for coluna_data in ['OFFER_START_DATE', 'OFFER_START_DTTM', 'OFFER_FINISH_DTTM']:\n",
    "    df[coluna_data] = pd.to_datetime(df[coluna_data])"
   ]
  },
  {
   "cell_type": "code",
   "execution_count": 58,
   "id": "3687ded6",
   "metadata": {},
   "outputs": [
    {
     "name": "stdout",
     "output_type": "stream",
     "text": [
      "<class 'pandas.core.frame.DataFrame'>\n",
      "RangeIndex: 48746 entries, 0 to 48745\n",
      "Data columns (total 14 columns):\n",
      " #   Column                     Non-Null Count  Dtype              \n",
      "---  ------                     --------------  -----              \n",
      " 0   OFFER_START_DATE           48746 non-null  datetime64[ns]     \n",
      " 1   OFFER_START_DTTM           48746 non-null  datetime64[ns, UTC]\n",
      " 2   OFFER_FINISH_DTTM          48746 non-null  datetime64[ns, UTC]\n",
      " 3   INVOLVED_STOCK             48746 non-null  int64              \n",
      " 4   REMAINING_STOCK_AFTER_END  48746 non-null  int64              \n",
      " 5   SOLD_AMOUNT                24579 non-null  float64            \n",
      " 6   SOLD_QUANTITY              24579 non-null  float64            \n",
      " 7   ORIGIN                     11316 non-null  object             \n",
      " 8   SHIPPING_PAYMENT_TYPE      48746 non-null  object             \n",
      " 9   DOM_DOMAIN_AGG1            48746 non-null  object             \n",
      " 10  VERTICAL                   48746 non-null  object             \n",
      " 11  DOMAIN_ID                  48746 non-null  object             \n",
      " 12  OFFER_DURATION             48746 non-null  timedelta64[ns]    \n",
      " 13  OFFER_DURATION_HOURS       48746 non-null  float64            \n",
      "dtypes: datetime64[ns, UTC](2), datetime64[ns](1), float64(3), int64(2), object(5), timedelta64[ns](1)\n",
      "memory usage: 5.2+ MB\n"
     ]
    }
   ],
   "source": [
    "df.info()"
   ]
  },
  {
   "cell_type": "code",
   "execution_count": 48,
   "id": "1f38fec1",
   "metadata": {},
   "outputs": [],
   "source": [
    "# Criar a coluna de duração da oferta:\n",
    "\n",
    "df['OFFER_DURATION'] = df['OFFER_FINISH_DTTM'] - df['OFFER_START_DTTM']\n",
    "df['OFFER_DURATION_HOURS'] = (df['OFFER_FINISH_DTTM'] - df['OFFER_START_DTTM']).dt.total_seconds() / 3600"
   ]
  },
  {
   "cell_type": "code",
   "execution_count": 52,
   "id": "18ceca30",
   "metadata": {},
   "outputs": [
    {
     "data": {
      "text/plain": [
       "5.7083444168638335"
      ]
     },
     "execution_count": 52,
     "metadata": {},
     "output_type": "execute_result"
    }
   ],
   "source": [
    "# Em média a oferta dura quase 6 horas\n",
    "df['OFFER_DURATION_HOURS'].mean()"
   ]
  },
  {
   "cell_type": "code",
   "execution_count": 53,
   "id": "29e38097",
   "metadata": {},
   "outputs": [
    {
     "data": {
      "text/plain": [
       "6.000555555555556"
      ]
     },
     "execution_count": 53,
     "metadata": {},
     "output_type": "execute_result"
    }
   ],
   "source": [
    "df['OFFER_DURATION_HOURS'].median()"
   ]
  },
  {
   "cell_type": "code",
   "execution_count": 55,
   "id": "1d0261c6",
   "metadata": {},
   "outputs": [
    {
     "data": {
      "text/plain": [
       "35046      0.000000\n",
       "3479       0.000000\n",
       "44729      0.000000\n",
       "40662      0.000000\n",
       "35302      0.000000\n",
       "            ...    \n",
       "28519     14.619722\n",
       "28540     14.629722\n",
       "28556     14.668611\n",
       "28642     15.619167\n",
       "42018    104.752500\n",
       "Name: OFFER_DURATION_HOURS, Length: 48746, dtype: float64"
      ]
     },
     "execution_count": 55,
     "metadata": {},
     "output_type": "execute_result"
    }
   ],
   "source": [
    "# Existem durações de 4 dias (104 horas) mas existem durações instantâneas (o que não é possível) - investigar\n",
    "\n",
    "df['OFFER_DURATION_HOURS'].sort_values()"
   ]
  },
  {
   "cell_type": "markdown",
   "id": "2a77e89d",
   "metadata": {},
   "source": [
    "Existem durações de 4 dias (104 horas) mas existem durações instantâneas (o que não é possível) - investigar"
   ]
  },
  {
   "cell_type": "code",
   "execution_count": 60,
   "id": "8d5f1f7b",
   "metadata": {},
   "outputs": [
    {
     "data": {
      "text/plain": [
       "ORIGIN\n",
       "NaN    37430\n",
       "A      11316\n",
       "Name: count, dtype: int64"
      ]
     },
     "execution_count": 60,
     "metadata": {},
     "output_type": "execute_result"
    }
   ],
   "source": [
    "# Feature origin:\n",
    "\n",
    "df.ORIGIN.value_counts(dropna=False)"
   ]
  },
  {
   "cell_type": "code",
   "execution_count": 61,
   "id": "1b623222",
   "metadata": {},
   "outputs": [
    {
     "data": {
      "text/plain": [
       "ORIGIN\n",
       "NaN    0.767858\n",
       "A      0.232142\n",
       "Name: proportion, dtype: float64"
      ]
     },
     "execution_count": 61,
     "metadata": {},
     "output_type": "execute_result"
    }
   ],
   "source": [
    "df.ORIGIN.value_counts(dropna=False, normalize=True)"
   ]
  },
  {
   "cell_type": "markdown",
   "id": "c72140d8",
   "metadata": {},
   "source": [
    "A origem da oferta não parece trazer informação isoladamente. Essa feature será retirada do conjunto de dados"
   ]
  },
  {
   "cell_type": "code",
   "execution_count": 62,
   "id": "9abdd0c7",
   "metadata": {},
   "outputs": [],
   "source": [
    "df.drop(columns=['ORIGIN'], inplace=True)"
   ]
  },
  {
   "cell_type": "code",
   "execution_count": 64,
   "id": "db8392dc",
   "metadata": {},
   "outputs": [
    {
     "data": {
      "text/plain": [
       "SHIPPING_PAYMENT_TYPE\n",
       "free_shipping    26658\n",
       "none             22088\n",
       "Name: count, dtype: int64"
      ]
     },
     "execution_count": 64,
     "metadata": {},
     "output_type": "execute_result"
    }
   ],
   "source": [
    "# SHIPPING_PAYMENT_TYPE: tipo do pagamento de envio\n",
    "\n",
    "df.SHIPPING_PAYMENT_TYPE.value_counts(dropna=False)"
   ]
  },
  {
   "cell_type": "code",
   "execution_count": 66,
   "id": "85f6447c",
   "metadata": {},
   "outputs": [
    {
     "data": {
      "text/plain": [
       "SHIPPING_PAYMENT_TYPE\n",
       "free_shipping    0.546876\n",
       "none             0.453124\n",
       "Name: proportion, dtype: float64"
      ]
     },
     "execution_count": 66,
     "metadata": {},
     "output_type": "execute_result"
    }
   ],
   "source": [
    "df.SHIPPING_PAYMENT_TYPE.value_counts(dropna=False, normalize=True)"
   ]
  },
  {
   "cell_type": "markdown",
   "id": "fd8ac57d",
   "metadata": {},
   "source": [
    "Como 54% das ofertas tiveram envio gratuito (free_shipping), imagina-se que os demais tiveram um valor de frete, ou seja, não foram sem custo. Por isso, valores faltantes serão substituidos pela categoria `paid_shipping`"
   ]
  },
  {
   "cell_type": "code",
   "execution_count": null,
   "id": "f3e084b5",
   "metadata": {},
   "outputs": [],
   "source": []
  },
  {
   "cell_type": "code",
   "execution_count": null,
   "id": "be799eab",
   "metadata": {},
   "outputs": [],
   "source": []
  },
  {
   "cell_type": "code",
   "execution_count": null,
   "id": "781a3092",
   "metadata": {},
   "outputs": [],
   "source": []
  }
 ],
 "metadata": {
  "gist": {
   "data": {
    "description": "Documents/Meli/DS Challenge - Case 1.ipynb",
    "public": true
   },
   "id": ""
  },
  "kernelspec": {
   "display_name": "Python 3 (ipykernel)",
   "language": "python",
   "name": "python3"
  },
  "language_info": {
   "codemirror_mode": {
    "name": "ipython",
    "version": 3
   },
   "file_extension": ".py",
   "mimetype": "text/x-python",
   "name": "python",
   "nbconvert_exporter": "python",
   "pygments_lexer": "ipython3",
   "version": "3.12.0"
  }
 },
 "nbformat": 4,
 "nbformat_minor": 5
}
