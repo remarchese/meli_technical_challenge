{
 "cells": [
  {
   "attachments": {
    "image.png": {
     "image/png": "[encoded data removed]"
    }
   },
   "cell_type": "markdown",
   "id": "0af9da16",
   "metadata": {},
   "source": [
    "<div style=\"background-color: yellow; padding: 18px;\">\n",
    "    <h1> Data Science Challenge |  Data & Analytics Team\n",
    "</div>\n",
    "\n",
    "<div style=\"background-color: lightblue; padding: 10px;\">\n",
    "    <h2> Case 2 - Similitud entre productos\n",
    "</div>\n",
    "    \n",
    "\n",
    "**Descripción**\n",
    " \n",
    "Un desafío constante en MELI es el de poder agrupar productos similares utilizando algunos atributos de estos como pueden ser el título, la descripción o su imagen.\n",
    "Para este desafío tenemos un dataset “items_titles.csv” que tiene títulos de 30 mil productos de 3 categorías diferentes de Mercado Libre Brasilultados de ofertas del tipo relampago para un periodo de tiempo y un país determinado.\n",
    "\n",
    "![image.png](attachment:image.png)\n",
    "\n",
    "   \n",
    "El objetivo del desafío es poder generar una Jupyter notebook que determine cuán similares son dos títulos del dataset “item_titles_test.csv” generando como output un listado de la forma donde ordenando por score de similitud podamos encontrar los pares de productos más similares en nuestro dataset de test.\n",
    "    \n",
    "___"
   ]
  },
  {
   "cell_type": "markdown",
   "id": "06c2d97d",
   "metadata": {},
   "source": [
    "# Estratégia adotada:\n",
    "\n",
    "- Usar product similarity with text embedding (LaBSE)\n",
    "-\n",
    "-\n",
    "-\n",
    "-\n",
    "-\n",
    "\n",
    "## Contexto do problema\n",
    "\n",
    "O título das publicações dos items são escritos pelos sellers e, muitas vezes se referem a produtos idênticos. Entender melhor o produto anunciado ajuda em diversos fluxos como, por exemplo:\n",
    "- Sugerir um domínio para aquele produto (segmento)\n",
    "- identificar se o produto é hazmat evitando acidentes nas operações (bateria, aerosol, ácidos entre outros)\n",
    "- se é permitido o armazenamento em Fulfilments, em qual centro de distribuição devido ao tamanho (bulk, se é touchtable) e como armazenar (se é de supermercado ou alto valor tem que ficar separado).\n",
    "- qual tipo de transporte ou manipulação deve ser feita; se pode passar por Meliair\n",
    "- estimar as dimensões e pesos do item para calcular o frete, dimensionar área do caminhão, selecionar o tipo de caixa caso seja produto de fulfillment.\n",
    "\n",
    "Enfim, identificar produtos similares pelo título do anúncio é de fundamental importância"
   ]
  },
  {
   "cell_type": "code",
   "execution_count": null,
   "id": "9acb2ad8",
   "metadata": {},
   "outputs": [],
   "source": []
  },
  {
   "cell_type": "code",
   "execution_count": 1,
   "id": "c7184816",
   "metadata": {},
   "outputs": [],
   "source": [
    "import tensorflow_text # noqa\n",
    "import tensorflow_hub as hub\n",
    "import tensorflow as tf\n",
    "import numpy as np\n",
    "import pandas as pd"
   ]
  },
  {
   "cell_type": "code",
   "execution_count": 7,
   "id": "0e21023f",
   "metadata": {},
   "outputs": [],
   "source": [
    "pd.set_option('display.max_rows', 500)\n",
    "pd.set_option('display.max_colwidth', None)"
   ]
  },
  {
   "cell_type": "code",
   "execution_count": null,
   "id": "8bdfa421-a660-45d8-9e35-2c54eeca54ba",
   "metadata": {},
   "outputs": [],
   "source": []
  },
  {
   "cell_type": "code",
   "execution_count": null,
   "id": "99674225-bb90-4780-8c74-1a3049c0acf5",
   "metadata": {},
   "outputs": [],
   "source": []
  },
  {
   "cell_type": "code",
   "execution_count": 9,
   "id": "fdb1a58f-108c-4699-9fbf-0d843022fdb9",
   "metadata": {},
   "outputs": [
    {
     "name": "stdout",
     "output_type": "stream",
     "text": [
      "Model: \"model\"\n",
      "__________________________________________________________________________________________________\n",
      " Layer (type)                   Output Shape         Param #     Connected to                     \n",
      "==================================================================================================\n",
      " sentences (InputLayer)         [(None,)]            0           []                               \n",
      "                                                                                                  \n",
      " keras_layer_1 (KerasLayer)     {'input_word_ids':   0           ['sentences[0][0]']              \n",
      "                                (None, 128),                                                      \n",
      "                                 'input_mask': (Non                                               \n",
      "                                e, 128),                                                          \n",
      "                                 'input_type_ids':                                                \n",
      "                                (None, 128)}                                                      \n",
      "                                                                                                  \n",
      " keras_layer (KerasLayer)       {'sequence_output':  219171840   ['keras_layer_1[0][0]',          \n",
      "                                 (None, 128, 768),                'keras_layer_1[0][1]',          \n",
      "                                 'pooled_output': (               'keras_layer_1[0][2]']          \n",
      "                                None, 768),                                                       \n",
      "                                 'encoder_outputs':                                               \n",
      "                                 [(None, 128, 768),                                               \n",
      "                                 (None, 128, 768),                                                \n",
      "                                 (None, 128, 768),                                                \n",
      "                                 (None, 128, 768),                                                \n",
      "                                 (None, 128, 768),                                                \n",
      "                                 (None, 128, 768),                                                \n",
      "                                 (None, 128, 768),                                                \n",
      "                                 (None, 128, 768),                                                \n",
      "                                 (None, 128, 768),                                                \n",
      "                                 (None, 128, 768),                                                \n",
      "                                 (None, 128, 768),                                                \n",
      "                                 (None, 128, 768)]}                                               \n",
      "                                                                                                  \n",
      " tf.math.l2_normalize (TFOpLamb  (None, 768)         0           ['keras_layer[0][12]']           \n",
      " da)                                                                                              \n",
      "                                                                                                  \n",
      "==================================================================================================\n",
      "Total params: 219,171,840\n",
      "Trainable params: 0\n",
      "Non-trainable params: 219,171,840\n",
      "__________________________________________________________________________________________________\n"
     ]
    }
   ],
   "source": [
    "#gera embedding e aplica normalização l2\n",
    "\n",
    "# Loading models from tfhub.dev\n",
    "encoder = hub.KerasLayer(\"https://tfhub.dev/jeongukjae/smaller_LaBSE_15lang/1\")\n",
    "preprocessor = hub.KerasLayer(\"https://tfhub.dev/jeongukjae/smaller_LaBSE_15lang_preprocess/1\")\n",
    "\n",
    "# Constructing model to encode texts into high-dimensional vectors\n",
    "sentences = tf.keras.layers.Input(shape=(), dtype=tf.string, name=\"sentences\")\n",
    "encoder_inputs = preprocessor(sentences)\n",
    "sentence_representation = encoder(encoder_inputs)[\"pooled_output\"]\n",
    "normalized_sentence_representation = tf.nn.l2_normalize(sentence_representation, axis=-1)  # for cosine similarity\n",
    "model = tf.keras.Model(sentences, normalized_sentence_representation)\n",
    "model.summary()"
   ]
  },
  {
   "cell_type": "code",
   "execution_count": null,
   "id": "834b57ad-041f-45be-9f60-779caea39e9c",
   "metadata": {},
   "outputs": [],
   "source": []
  },
  {
   "cell_type": "code",
   "execution_count": null,
   "id": "3232698b-edda-4c68-9ccc-537273aa9e50",
   "metadata": {},
   "outputs": [],
   "source": []
  },
  {
   "cell_type": "code",
   "execution_count": 11,
   "id": "1c786b73-0d49-4033-ba05-ef63bbb4a17d",
   "metadata": {},
   "outputs": [
    {
     "name": "stdout",
     "output_type": "stream",
     "text": [
      "938/938 [==============================] - 6543s 7s/step\n"
     ]
    }
   ],
   "source": [
    "product_df = pd.read_csv('files/items_titles.csv')\n",
    "\n",
    "product_data = product_df['ITE_ITEM_TITLE'].values\n",
    "\n",
    "product_embedding_data = model.predict(product_data)\n",
    "\n",
    "product_embedding_data_df = pd.DataFrame(product_embedding_data)\n",
    "\n",
    "product_embedding_data_df['ITE_ITEM_TITLE'] = product_df['ITE_ITEM_TITLE']\n",
    "\n",
    "product_embedding_data_df.to_csv('output/items_titles_embedding.csv', index=False)"
   ]
  },
  {
   "cell_type": "code",
   "execution_count": 8,
   "id": "c815b0c4-a241-4bc1-b0a8-caa06f74634a",
   "metadata": {},
   "outputs": [
    {
     "data": {
      "text/html": [
       "<div>\n",
       "<style scoped>\n",
       "    .dataframe tbody tr th:only-of-type {\n",
       "        vertical-align: middle;\n",
       "    }\n",
       "\n",
       "    .dataframe tbody tr th {\n",
       "        vertical-align: top;\n",
       "    }\n",
       "\n",
       "    .dataframe thead th {\n",
       "        text-align: right;\n",
       "    }\n",
       "</style>\n",
       "<table border=\"1\" class=\"dataframe\">\n",
       "  <thead>\n",
       "    <tr style=\"text-align: right;\">\n",
       "      <th></th>\n",
       "      <th>ITE_ITEM_TITLE</th>\n",
       "    </tr>\n",
       "  </thead>\n",
       "  <tbody>\n",
       "    <tr>\n",
       "      <th>0</th>\n",
       "      <td>Tênis Ascension Posh Masculino - Preto E Vermelho</td>\n",
       "    </tr>\n",
       "    <tr>\n",
       "      <th>1</th>\n",
       "      <td>Tenis Para Caminhada Super Levinho Spider Corrida</td>\n",
       "    </tr>\n",
       "    <tr>\n",
       "      <th>2</th>\n",
       "      <td>Tênis Feminino Le Parc Hocks Black/ice Original Envio Já</td>\n",
       "    </tr>\n",
       "    <tr>\n",
       "      <th>3</th>\n",
       "      <td>Tênis Olympikus Esportivo Academia Nova Tendência Triunfo</td>\n",
       "    </tr>\n",
       "    <tr>\n",
       "      <th>4</th>\n",
       "      <td>Inteligente Led Bicicleta Tauda Luz Usb Bicicleta Carregáve</td>\n",
       "    </tr>\n",
       "    <tr>\n",
       "      <th>...</th>\n",
       "      <td>...</td>\n",
       "    </tr>\n",
       "    <tr>\n",
       "      <th>29995</th>\n",
       "      <td>Tênis Vans Old Skool I Love My Vans - Usado - Feminino</td>\n",
       "    </tr>\n",
       "    <tr>\n",
       "      <th>29996</th>\n",
       "      <td>Tênis Feminino Preto Moleca 5296155</td>\n",
       "    </tr>\n",
       "    <tr>\n",
       "      <th>29997</th>\n",
       "      <td>Tenis Botinha Com Pelo Via Marte Original Lançamento</td>\n",
       "    </tr>\n",
       "    <tr>\n",
       "      <th>29998</th>\n",
       "      <td>Tênis Slip On Feminino Masculino Original Sapato Xadrez Mule</td>\n",
       "    </tr>\n",
       "    <tr>\n",
       "      <th>29999</th>\n",
       "      <td>Bicicleta Nathor Rosa Infantil Sem Pedal Balance Aro 12</td>\n",
       "    </tr>\n",
       "  </tbody>\n",
       "</table>\n",
       "<p>30000 rows × 1 columns</p>\n",
       "</div>"
      ],
      "text/plain": [
       "                                                     ITE_ITEM_TITLE\n",
       "0                Tênis Ascension Posh Masculino - Preto E Vermelho \n",
       "1                Tenis Para Caminhada Super Levinho Spider Corrida \n",
       "2          Tênis Feminino Le Parc Hocks Black/ice Original Envio Já\n",
       "3        Tênis Olympikus Esportivo Academia Nova Tendência Triunfo \n",
       "4       Inteligente Led Bicicleta Tauda Luz Usb Bicicleta Carregáve\n",
       "...                                                             ...\n",
       "29995        Tênis Vans Old Skool I Love My Vans - Usado - Feminino\n",
       "29996                           Tênis Feminino Preto Moleca 5296155\n",
       "29997          Tenis Botinha Com Pelo Via Marte Original Lançamento\n",
       "29998  Tênis Slip On Feminino Masculino Original Sapato Xadrez Mule\n",
       "29999       Bicicleta Nathor Rosa Infantil Sem Pedal Balance Aro 12\n",
       "\n",
       "[30000 rows x 1 columns]"
      ]
     },
     "execution_count": 8,
     "metadata": {},
     "output_type": "execute_result"
    }
   ],
   "source": [
    "df"
   ]
  },
  {
   "cell_type": "code",
   "execution_count": 13,
   "id": "98736123-2386-4bd1-b2e2-e93d89d03e65",
   "metadata": {},
   "outputs": [
    {
     "name": "stdout",
     "output_type": "stream",
     "text": [
      "313/313 [==============================] - 2227s 7s/step\n"
     ]
    }
   ],
   "source": [
    "# testa df\n",
    "product_test_df = pd.read_csv('files/items_titles_test.csv')\n",
    "\n",
    "product_test_data = product_test_df['ITE_ITEM_TITLE'].values\n",
    "\n",
    "product_test_embedding_data = model.predict(product_test_data)\n",
    "\n",
    "product_test_embedding_data_df = pd.DataFrame(product_test_embedding_data)\n",
    "\n",
    "product_test_embedding_data_df['ITE_ITEM_TITLE'] = product_test_df['ITE_ITEM_TITLE']"
   ]
  },
  {
   "cell_type": "code",
   "execution_count": 16,
   "id": "74a12c6f-b930-4efa-88f5-06177f6ee909",
   "metadata": {},
   "outputs": [],
   "source": [
    "product_test_embedding_data_df.to_csv('output/items_titles_test_embedding.csv', index=False)"
   ]
  },
  {
   "cell_type": "code",
   "execution_count": 17,
   "id": "1dc37cc7-44a8-4a44-a532-2985825ca528",
   "metadata": {},
   "outputs": [],
   "source": [
    "product_test_embedding_data_df = pd.read_csv('output/items_titles_test_embedding.csv')"
   ]
  },
  {
   "cell_type": "code",
   "execution_count": 18,
   "id": "5793ff16-d602-458f-91b0-280fb6e66237",
   "metadata": {},
   "outputs": [],
   "source": [
    "from sklearn.metrics.pairwise import cosine_similarity"
   ]
  },
  {
   "cell_type": "code",
   "execution_count": 19,
   "id": "9cb2713a-4657-4ebf-871c-85c43d0123e2",
   "metadata": {},
   "outputs": [],
   "source": [
    "product_embedding = product_embedding_data_df.loc[:, product_embedding_data_df.columns != 'ITE_ITEM_TITLE']"
   ]
  },
  {
   "cell_type": "code",
   "execution_count": 20,
   "id": "34def055-8a7c-4b81-a491-99c7d8a69077",
   "metadata": {},
   "outputs": [],
   "source": [
    "product_test_embedding = product_test_embedding_data_df.loc[:, product_test_embedding_data_df.columns != 'ITE_ITEM_TITLE']"
   ]
  },
  {
   "cell_type": "code",
   "execution_count": 21,
   "id": "5dffcaed-9020-4b36-a76d-657269a4f957",
   "metadata": {},
   "outputs": [],
   "source": [
    "product_similarity = cosine_similarity(product_test_embedding, product_embedding)"
   ]
  },
  {
   "cell_type": "code",
   "execution_count": 22,
   "id": "80a04109-d5d7-4320-a5c6-e779eafb0c1c",
   "metadata": {},
   "outputs": [
    {
     "data": {
      "text/plain": [
       "(10000, 30000)"
      ]
     },
     "execution_count": 22,
     "metadata": {},
     "output_type": "execute_result"
    }
   ],
   "source": [
    "product_similarity.shape"
   ]
  },
  {
   "cell_type": "code",
   "execution_count": 23,
   "id": "301ff044-4563-4303-a885-eb91467b63fe",
   "metadata": {},
   "outputs": [],
   "source": [
    "products = product_embedding_data_df['ITE_ITEM_TITLE']\n",
    "product_test = product_test_embedding_data_df['ITE_ITEM_TITLE']"
   ]
  },
  {
   "cell_type": "code",
   "execution_count": null,
   "id": "adc46a4e-f736-448b-96a7-b9ba37973968",
   "metadata": {},
   "outputs": [],
   "source": [
    "product_pairs = pd.DataFrame(index=pd.MultiIndex.from_product([product_test, products], names=['ITE_ITEM_TITLE_A', 'ITE_ITEM_TITLE_B']))\n",
    "product_pairs['similarity'] = product_similarity.flatten()\n",
    "\n",
    "# Reset the index to get product_a and product_b as columns\n",
    "pairwise_df = product_pairs.reset_index()"
   ]
  },
  {
   "cell_type": "code",
   "execution_count": null,
   "id": "48e35842-6e18-4262-b05c-e7081f21acf9",
   "metadata": {},
   "outputs": [],
   "source": []
  },
  {
   "cell_type": "code",
   "execution_count": 26,
   "id": "8e1ed13d-4177-4307-a9f9-d5d8b1a43bb1",
   "metadata": {},
   "outputs": [],
   "source": [
    "del product_embedding_data_df"
   ]
  },
  {
   "cell_type": "code",
   "execution_count": null,
   "id": "ec877e27-cdb0-4da9-a60c-a38dcd6c73f9",
   "metadata": {},
   "outputs": [],
   "source": []
  },
  {
   "cell_type": "code",
   "execution_count": null,
   "id": "ca9f10e8-f192-4f7b-abbc-5f730914bee6",
   "metadata": {},
   "outputs": [],
   "source": []
  },
  {
   "cell_type": "code",
   "execution_count": null,
   "id": "39b88ad7-cec0-4f9a-93ac-f2e83abd3b29",
   "metadata": {},
   "outputs": [],
   "source": []
  },
  {
   "cell_type": "code",
   "execution_count": null,
   "id": "24242d52-2962-4186-bb2e-12b1de99408c",
   "metadata": {},
   "outputs": [],
   "source": []
  },
  {
   "cell_type": "code",
   "execution_count": null,
   "id": "69919909-718d-440e-9bff-c617ba3bc6b1",
   "metadata": {},
   "outputs": [],
   "source": []
  },
  {
   "cell_type": "code",
   "execution_count": null,
   "id": "11cc4b96-42c2-4353-a40d-6300b885cb20",
   "metadata": {},
   "outputs": [],
   "source": []
  }
 ],
 "metadata": {
  "kernelspec": {
   "display_name": "Python 3 (ipykernel)",
   "language": "python",
   "name": "python3"
  },
  "language_info": {
   "codemirror_mode": {
    "name": "ipython",
    "version": 3
   },
   "file_extension": ".py",
   "mimetype": "text/x-python",
   "name": "python",
   "nbconvert_exporter": "python",
   "pygments_lexer": "ipython3",
   "version": "3.12.0"
  }
 },
 "nbformat": 4,
 "nbformat_minor": 5
}
